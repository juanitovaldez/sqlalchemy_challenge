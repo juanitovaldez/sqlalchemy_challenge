{
 "nbformat": 4,
 "nbformat_minor": 2,
 "metadata": {
  "language_info": {
   "name": "python",
   "codemirror_mode": {
    "name": "ipython",
    "version": 3
   },
   "version": "3.7.3-final"
  },
  "orig_nbformat": 2,
  "file_extension": ".py",
  "mimetype": "text/x-python",
  "name": "python",
  "npconvert_exporter": "python",
  "pygments_lexer": "ipython3",
  "version": 3,
  "kernelspec": {
   "name": "python37364bitbasecondad1a2dd90d65d4da8b31384c2cd850807",
   "display_name": "Python 3.7.3 64-bit ('base': conda)"
  }
 },
 "cells": [
  {
   "cell_type": "code",
   "execution_count": 39,
   "metadata": {},
   "outputs": [
    {
     "data": {
      "text/plain": "('Endpoints:',\n ['/api/sicky_gnar/prcp', '/api/sicky_gnar/station', '/api/sicky_gnar/tobs'])"
     },
     "execution_count": 39,
     "metadata": {},
     "output_type": "execute_result"
    }
   ],
   "source": [
    "end_point = r'/api/sicky_gnar/'\n",
    "options = ['prcp', 'station', 'tobs']\n",
    "def index():\n",
    "    return(\n",
    "        f'Endpoints:',[f'{end_point}{options[x]}' for x in range(len(options))])\n",
    "              \n",
    "index()"
   ]
  }
 ]
}